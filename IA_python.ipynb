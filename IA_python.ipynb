{
 "cells": [
  {
   "cell_type": "code",
   "execution_count": 58,
   "id": "811c87b5",
   "metadata": {},
   "outputs": [
    {
     "name": "stdout",
     "output_type": "stream",
     "text": [
      "[2002, 2009, 2016, 2023, 2037, 2044, 2051, 2058, 2072, 2079, 2086, 2093, 2107, 2114, 2121, 2128, 2142, 2149, 2156, 2163, 2177, 2184, 2191, 2198, 2212, 2219, 2226, 2233, 2247, 2254, 2261, 2268, 2282, 2289, 2296, 2303, 2317, 2324, 2331, 2338, 2352, 2359, 2366, 2373, 2387, 2394, 2401, 2408, 2422, 2429, 2436, 2443, 2457, 2464, 2471, 2478, 2492, 2499, 2506, 2513, 2527, 2534, 2541, 2548, 2562, 2569, 2576, 2583, 2597, 2604, 2611, 2618, 2632, 2639, 2646, 2653, 2667, 2674, 2681, 2688, 2702, 2709, 2716, 2723, 2737, 2744, 2751, 2758, 2772, 2779, 2786, 2793, 2807, 2814, 2821, 2828, 2842, 2849, 2856, 2863, 2877, 2884, 2891, 2898, 2912, 2919, 2926, 2933, 2947, 2954, 2961, 2968, 2982, 2989, 2996]\n"
     ]
    }
   ],
   "source": [
    "#Exo 01:\n",
    "\n",
    "list_nbr = []\n",
    "\n",
    "def func(nbr):\n",
    "    if nbr % 7 == 0 and nbr % 5 != 0:\n",
    "        list_nbr.append(nbr)\n",
    "        \n",
    "for nbr in range(2000, 3000):\n",
    "    func(nbr)\n",
    "            \n",
    "       \n",
    "print(list_nbr)\n"
   ]
  },
  {
   "cell_type": "code",
   "execution_count": 80,
   "id": "be68721a",
   "metadata": {},
   "outputs": [
    {
     "name": "stdout",
     "output_type": "stream",
     "text": [
      "Enter a number: 5\n",
      "the factoriel of 5 = 120\n"
     ]
    }
   ],
   "source": [
    "#Exo 02:\n",
    "\n",
    "nbr = int(input(\"Enter a number: \"))\n",
    "if(nbr < 0): nbr = int(input(\"Enter a positive number: \"))\n",
    "if(nbr >= 0): print(\"The factorial of\",nbr,\"=\", fact(nbr))\n",
    "def fact(nbr):\n",
    "    res = 1\n",
    "    if( nbr == 0): return res\n",
    "    for n in range(0, nbr):\n",
    "        res = res*(nbr-n)\n",
    "    return res             \n"
   ]
  },
  {
   "cell_type": "code",
   "execution_count": 84,
   "id": "15202036",
   "metadata": {},
   "outputs": [
    {
     "name": "stdout",
     "output_type": "stream",
     "text": [
      "{1: 1, 2: 4, 3: 9, 4: 16, 5: 25, 6: 36, 7: 49, 8: 64}\n"
     ]
    }
   ],
   "source": [
    "#Exo 3\n",
    "\n",
    "dict = {}\n",
    "def calc(nbr):\n",
    "    for n in range(1, nbr+1):\n",
    "        dict[n] = n*(n)\n",
    "    return dict\n",
    "print(calc(8))"
   ]
  },
  {
   "cell_type": "code",
   "execution_count": 126,
   "id": "2df2a4d9",
   "metadata": {},
   "outputs": [
    {
     "name": "stdout",
     "output_type": "stream",
     "text": [
      "Enter the string: hafid\n",
      "Enter the index: 2\n",
      "haid\n"
     ]
    }
   ],
   "source": [
    "#Exo 4\n",
    "\n",
    "def missing_char(strg, pos):\n",
    "    newStr = \"\"     \n",
    "    for i in range(len(strg)):\n",
    "            if (i != pos):\n",
    "                newStr = newStr + strg[i]\n",
    "    return newStr\n",
    "\n",
    "\n",
    "str = input(\"Enter the string: \")\n",
    "n = int(input(\"Enter the index: \"))\n",
    "\n",
    "\n",
    "while len(str) <= n:\n",
    "    str = input(\"Enter the string: \")\n",
    "    n = int(input(\"Enter the index: \"))\n",
    "\n",
    "\n",
    "result = missing_char(str, n) \n",
    "print(result)"
   ]
  },
  {
   "cell_type": "code",
   "execution_count": 140,
   "id": "c597734c",
   "metadata": {},
   "outputs": [
    {
     "name": "stdout",
     "output_type": "stream",
     "text": [
      "NumPy array: [[0 1]\n",
      " [2 3]\n",
      " [4 5]]\n",
      "Python array: [[0, 1], [2, 3], [4, 5]]\n"
     ]
    }
   ],
   "source": [
    "#Exo 5\n",
    "\n",
    "def convert(arr):\n",
    "   newArr = arr.tolist()\n",
    "   return newArr\n",
    "\n",
    "numpy_arr = np.arange(6).reshape(3, 2)\n",
    "a = convert(numpy_arr)\n",
    "print('NumPy array:', numpy_arr)\n",
    "print('Python array:', a)"
   ]
  },
  {
   "cell_type": "code",
   "execution_count": 144,
   "id": "d18fe578",
   "metadata": {},
   "outputs": [
    {
     "name": "stdout",
     "output_type": "stream",
     "text": [
      "Convariance matrix: [[ 1. -1.]\n",
      " [-1.  1.]]\n"
     ]
    }
   ],
   "source": [
    "#Exo 6\n",
    "\n",
    "tab1 = np.array([0, 1, 2])\n",
    "tab2 = np.array([2, 1, 0])\n",
    "\n",
    "mat_conv = np.cov(tab1, tab2)\n",
    "\n",
    "print(\"Convariance matrix:\", mat_conv)\n"
   ]
  },
  {
   "cell_type": "code",
   "execution_count": 186,
   "id": "3f72e150",
   "metadata": {},
   "outputs": [
    {
     "name": "stdout",
     "output_type": "stream",
     "text": [
      "Enter the sequence of numbers: 100,150,200\n"
     ]
    },
    {
     "ename": "TypeError",
     "evalue": "'str' object is not callable",
     "output_type": "error",
     "traceback": [
      "\u001b[1;31m---------------------------------------------------------------------------\u001b[0m",
      "\u001b[1;31mTypeError\u001b[0m                                 Traceback (most recent call last)",
      "\u001b[1;32m~\\AppData\\Local\\Temp\\ipykernel_2856\\3225918836.py\u001b[0m in \u001b[0;36m<module>\u001b[1;34m\u001b[0m\n\u001b[0;32m     18\u001b[0m \u001b[0mD\u001b[0m \u001b[1;33m=\u001b[0m \u001b[0mD\u001b[0m\u001b[1;33m.\u001b[0m\u001b[0msplit\u001b[0m\u001b[1;33m(\u001b[0m\u001b[1;34m\",\"\u001b[0m\u001b[1;33m)\u001b[0m\u001b[1;33m\u001b[0m\u001b[1;33m\u001b[0m\u001b[0m\n\u001b[0;32m     19\u001b[0m \u001b[1;33m\u001b[0m\u001b[0m\n\u001b[1;32m---> 20\u001b[1;33m \u001b[0mprint\u001b[0m\u001b[1;33m(\u001b[0m\u001b[0mcalcul\u001b[0m\u001b[1;33m(\u001b[0m\u001b[0mD\u001b[0m\u001b[1;33m)\u001b[0m\u001b[1;33m)\u001b[0m\u001b[1;33m\u001b[0m\u001b[1;33m\u001b[0m\u001b[0m\n\u001b[0m\u001b[0;32m     21\u001b[0m \u001b[1;33m\u001b[0m\u001b[0m\n\u001b[0;32m     22\u001b[0m \u001b[1;33m\u001b[0m\u001b[0m\n",
      "\u001b[1;32m~\\AppData\\Local\\Temp\\ipykernel_2856\\3225918836.py\u001b[0m in \u001b[0;36mcalcul\u001b[1;34m(array)\u001b[0m\n\u001b[0;32m      8\u001b[0m     \u001b[1;32mfor\u001b[0m \u001b[0mi\u001b[0m \u001b[1;32min\u001b[0m \u001b[0marray\u001b[0m\u001b[1;33m:\u001b[0m\u001b[1;33m\u001b[0m\u001b[1;33m\u001b[0m\u001b[0m\n\u001b[0;32m      9\u001b[0m         \u001b[0mQ\u001b[0m \u001b[1;33m=\u001b[0m \u001b[0mint\u001b[0m\u001b[1;33m(\u001b[0m\u001b[0mnp\u001b[0m\u001b[1;33m.\u001b[0m\u001b[0msqrt\u001b[0m\u001b[1;33m(\u001b[0m\u001b[1;36m2\u001b[0m\u001b[1;33m*\u001b[0m\u001b[0mC\u001b[0m\u001b[1;33m*\u001b[0m\u001b[0mint\u001b[0m\u001b[1;33m(\u001b[0m\u001b[0mi\u001b[0m\u001b[1;33m)\u001b[0m\u001b[1;33m/\u001b[0m\u001b[0mH\u001b[0m\u001b[1;33m)\u001b[0m\u001b[1;33m)\u001b[0m\u001b[1;33m\u001b[0m\u001b[1;33m\u001b[0m\u001b[0m\n\u001b[1;32m---> 10\u001b[1;33m         \u001b[0mchar\u001b[0m \u001b[1;33m=\u001b[0m \u001b[0mstr\u001b[0m\u001b[1;33m(\u001b[0m\u001b[0mQ\u001b[0m\u001b[1;33m)\u001b[0m\u001b[1;33m\u001b[0m\u001b[1;33m\u001b[0m\u001b[0m\n\u001b[0m\u001b[0;32m     11\u001b[0m         \u001b[0mresult\u001b[0m\u001b[1;33m.\u001b[0m\u001b[0mappend\u001b[0m\u001b[1;33m(\u001b[0m\u001b[0mchar\u001b[0m\u001b[1;33m)\u001b[0m\u001b[1;33m\u001b[0m\u001b[1;33m\u001b[0m\u001b[0m\n\u001b[0;32m     12\u001b[0m \u001b[1;33m\u001b[0m\u001b[0m\n",
      "\u001b[1;31mTypeError\u001b[0m: 'str' object is not callable"
     ]
    }
   ],
   "source": [
    "#Exo 7\n",
    "\n",
    "def calcul(array):\n",
    "    C = 50\n",
    "    H = 30\n",
    "    result = []\n",
    "    for i in array:\n",
    "        Q = int(np.sqrt(2*C*int(i)/H))\n",
    "        char = str(Q)\n",
    "        result.append(char)\n",
    "\n",
    "    res_str = \",\".join(result)\n",
    "    return res_str\n",
    "\n",
    "\n",
    "D = input(\"Enter the sequence of numbers: \")\n",
    "D = D.split(\",\")\n",
    "\n",
    "print(calcul(D))\n",
    "\n",
    "\n",
    "\n",
    "\n"
   ]
  },
  {
   "cell_type": "code",
   "execution_count": null,
   "id": "07b13b99",
   "metadata": {},
   "outputs": [],
   "source": []
  }
 ],
 "metadata": {
  "kernelspec": {
   "display_name": "Python 3 (ipykernel)",
   "language": "python",
   "name": "python3"
  },
  "language_info": {
   "codemirror_mode": {
    "name": "ipython",
    "version": 3
   },
   "file_extension": ".py",
   "mimetype": "text/x-python",
   "name": "python",
   "nbconvert_exporter": "python",
   "pygments_lexer": "ipython3",
   "version": "3.9.13"
  }
 },
 "nbformat": 4,
 "nbformat_minor": 5
}
